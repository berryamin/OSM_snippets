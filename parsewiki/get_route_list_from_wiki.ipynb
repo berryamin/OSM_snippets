{
 "cells": [
  {
   "cell_type": "code",
   "execution_count": 1,
   "metadata": {},
   "outputs": [],
   "source": [
    "import csv\n",
    "import requests\n",
    "\n",
    "# https://www.mediawiki.org/wiki/API:Parsing_wikitext"
   ]
  },
  {
   "cell_type": "code",
   "execution_count": 2,
   "metadata": {},
   "outputs": [],
   "source": [
    "wiki_page = \"WikiProject_France/Bus_Pep's\"\n",
    "wiki_section = 2\n",
    "\n",
    "#wiki_page = \"WikiProject_France/Noctilien\"\n",
    "#wiki_section = 6\n",
    "\n",
    "wiki_api_base_url = \"https://wiki.openstreetmap.org/w/api.php\"\n",
    "\n",
    "wiki_api_params = {\n",
    "    'action': \"parse\",\n",
    "    'page': wiki_page,\n",
    "    'prop': 'wikitext',\n",
    "    'section': wiki_section,\n",
    "    'format': \"json\"\n",
    "}"
   ]
  },
  {
   "cell_type": "code",
   "execution_count": 3,
   "metadata": {},
   "outputs": [],
   "source": [
    "api_call = requests.get(url=wiki_api_base_url, params = wiki_api_params)\n",
    "#api_call.url\n",
    "\n",
    "if not api_call.status_code == 200:\n",
    "    print('kapout')\n",
    "    \n",
    "api_results = api_call.json()\n"
   ]
  },
  {
   "cell_type": "code",
   "execution_count": 4,
   "metadata": {
    "scrolled": false
   },
   "outputs": [
    {
     "name": "stdout",
     "output_type": "stream",
     "text": [
      "ligne mal formatée\n",
      "ligne mal formatée\n"
     ]
    }
   ],
   "source": [
    "wiki_content = api_results['parse']['wikitext']['*'].split('|-')\n",
    "\n",
    "lines_list=[]\n",
    "\n",
    "for line in wiki_content:\n",
    "    elem = {}\n",
    "    if '{{browseLine' in line: #it may be a route_master line\n",
    "        cell_list= line.split('|')\n",
    "        ref = cell_list[2].strip('\\n').strip(' ')\n",
    "        relation_id = cell_list[5].strip('\\n').strip(' ')\n",
    "    elif '{{Relation|' in line: #it may be a route line\n",
    "        cell_list = line.split('||')\n",
    "        route_template = cell_list[1].split('|')\n",
    "        route_id = route_template[1]\n",
    "        route_name = route_template[2]\n",
    "        elem = {\n",
    "            'line_ref' : ref,\n",
    "            'line_id' : relation_id,\n",
    "            'route_name' : route_name,\n",
    "            'route_id' : route_id,\n",
    "        }\n",
    "        lines_list.append(elem)\n",
    "    else :\n",
    "        print(\"ligne mal formatée\")\n",
    "        #print(line)\n",
    "    \n",
    "\n",
    "#lines_list"
   ]
  },
  {
   "cell_type": "code",
   "execution_count": 5,
   "metadata": {},
   "outputs": [],
   "source": [
    "fieldnames = ['line_ref', 'line_id', 'route_id', 'route_name']\n",
    "\n",
    "with open(\"routes_list.csv\", \"w\") as output_file:\n",
    "    writer = csv.DictWriter(output_file, fieldnames=fieldnames)\n",
    "    writer.writeheader()\n",
    "    writer.writerows(lines_list)"
   ]
  }
 ],
 "metadata": {
  "kernelspec": {
   "display_name": "Python 3",
   "language": "python",
   "name": "python3"
  },
  "language_info": {
   "codemirror_mode": {
    "name": "ipython",
    "version": 3
   },
   "file_extension": ".py",
   "mimetype": "text/x-python",
   "name": "python",
   "nbconvert_exporter": "python",
   "pygments_lexer": "ipython3",
   "version": "3.6.8"
  }
 },
 "nbformat": 4,
 "nbformat_minor": 2
}
