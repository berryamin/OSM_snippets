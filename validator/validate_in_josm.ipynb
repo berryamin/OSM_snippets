{
 "cells": [
  {
   "cell_type": "code",
   "execution_count": 1,
   "metadata": {},
   "outputs": [],
   "source": [
    "import requests\n",
    "import json"
   ]
  },
  {
   "cell_type": "code",
   "execution_count": 2,
   "metadata": {},
   "outputs": [],
   "source": [
    "osmose_url= \"http://osmose.openstreetmap.fr/en/api/0.3beta/issues?osm_type=relation&osm_id={}&full=true\""
   ]
  },
  {
   "cell_type": "code",
   "execution_count": 3,
   "metadata": {},
   "outputs": [],
   "source": [
    "bbox_for_overpass = \"5.173011321882331,-4.258575439453126,5.544913134097361,-3.572616577148438\""
   ]
  },
  {
   "cell_type": "code",
   "execution_count": 4,
   "metadata": {},
   "outputs": [],
   "source": [
    "overpass_base_url = \"http://overpass-api.de/api/interpreter?data=\"\n",
    "overpass_query_part_for_bus_lines = '[out:json];relation[\"route\"=\"bus\"]({});relation[\"type\"=\"route_master\"](br);out meta;'.format(bbox_for_overpass)\n",
    "overpass_query_part_for_bus_routes = '[out:json];relation[\"route\"=\"bus\"]({});out meta;'.format(bbox_for_overpass)\n",
    "\n",
    "bus_lines_call = requests.get(overpass_base_url + overpass_query_part_for_bus_lines)\n",
    "if bus_lines_call.status_code != 200:\n",
    "    print(\"erreur overpass :{}\".format(bus_lines_call.status_code))\n",
    "\n",
    "bus_routes_call = requests.get(overpass_base_url + overpass_query_part_for_bus_routes)\n",
    "if bus_routes_call.status_code != 200:\n",
    "    print(\"erreur overpass :{}\".format(bus_routes_call.status_code))\n",
    "\n",
    "bus_routes = bus_routes_call.json()[\"elements\"]\n",
    "bus_lines = bus_lines_call.json()[\"elements\"]\n",
    "bus_relations = [line['id'] for line in bus_lines] + [route['id'] for route in bus_routes]"
   ]
  },
  {
   "cell_type": "code",
   "execution_count": 5,
   "metadata": {},
   "outputs": [],
   "source": [
    "seems_ok = []\n",
    "to_check = []\n",
    "\n",
    "for a_relation in bus_relations:\n",
    "    osmose_ = osmose_url.format(a_relation)\n",
    "    osmose_call = requests.get(osmose_)\n",
    "    osmose_results = osmose_call.json()['issues']\n",
    "    if not osmose_results:\n",
    "        seems_ok.append(a_relation)\n",
    "    elif len(osmose_results) == 1:\n",
    "        if osmose_results[0]['classs'] == 21404: #ignore \"missing ref tag\"\n",
    "            seems_ok.append(a_relation)\n",
    "        else :\n",
    "            to_check.append(a_relation)\n",
    "    else :\n",
    "        to_check.append(a_relation)\n"
   ]
  },
  {
   "cell_type": "code",
   "execution_count": 6,
   "metadata": {},
   "outputs": [
    {
     "data": {
      "text/plain": [
       "'http://localhost:8111/load_object?new_layer=true&relation_members=true&objects=r5985016,r9589447,r10063025,r10087961,r10168184,r10173635,r10179006,r10179435,r10184139,r10184730,r10184964,r10185142,r10185169,r10185403,r10185406,r10187611,r10187867,r10188869,r10189319,r10190159,r10190354,r10191924,r10192143,r10192153,r10199868,r10200077,r10201145,r10206110,r10206588,r10206969,r10206986,r10211372,r10211655,r10211824,r10212284,r10212293,r10212448,r10213167,r10213431,r10215245,r10215413,r10215677,r10216195,r10216288,r10217855,r10220180,r10220245,r10220807,r10225666,r5986717,r8771035,r8778229,r9589446,r10063024,r10087879,r10173633,r10173634,r10178996,r10179433,r10183939,r10184124,r10184409,r10184729,r10184954,r10184962,r10184963,r10185122,r10185123,r10185168,r10185402,r10185404,r10185405,r10186002,r10186314,r10187868,r10188094,r10188362,r10188868,r10189025,r10189317,r10189318,r10190158,r10190187,r10190353,r10191847,r10191923,r10191926,r10192050,r10192152,r10192285,r10192310,r10199196,r10199867,r10199984,r10200076,r10201097,r10201144,r10206109,r10206280,r10206587,r10206679,r10206968,r10206984,r10206985,r10211370,r10211371,r10211654,r10211802,r10211822,r10211823,r10212059,r10212283,r10212291,r10212292,r10212447,r10213165,r10213166,r10213300,r10213429,r10213430,r10213485,r10215243,r10215244,r10215412,r10215599,r10215675,r10215676,r10216194,r10216287,r10216365,r10216414,r10217853,r10217854,r10220178,r10220179,r10220244,r10220282,r10225401,r10225665'"
      ]
     },
     "execution_count": 6,
     "metadata": {},
     "output_type": "execute_result"
    }
   ],
   "source": [
    "seems_ok_objects = [\"r{}\".format(relation) for relation in seems_ok]\n",
    "josm_ok = \"http://localhost:8111/load_object?new_layer=true&relation_members=true&objects=\"+\",\".join(seems_ok_objects)\n",
    "josm_ok"
   ]
  },
  {
   "cell_type": "code",
   "execution_count": 7,
   "metadata": {},
   "outputs": [
    {
     "data": {
      "text/plain": [
       "'http://localhost:8111/load_object?new_layer=true&relation_members=true&objects=r4153675,r5985015,r8774949,r8778704,r9589445,r10178669,r10179434,r10220806'"
      ]
     },
     "execution_count": 7,
     "metadata": {},
     "output_type": "execute_result"
    }
   ],
   "source": [
    "to_check_objects = [\"r{}\".format(relation) for relation in to_check]\n",
    "to_check_ok = \"http://localhost:8111/load_object?new_layer=true&relation_members=true&objects=\"+\",\".join(to_check_objects)\n",
    "to_check_ok"
   ]
  }
 ],
 "metadata": {
  "kernelspec": {
   "display_name": "Python 3",
   "language": "python",
   "name": "python3"
  },
  "language_info": {
   "codemirror_mode": {
    "name": "ipython",
    "version": 3
   },
   "file_extension": ".py",
   "mimetype": "text/x-python",
   "name": "python",
   "nbconvert_exporter": "python",
   "pygments_lexer": "ipython3",
   "version": "3.6.8"
  }
 },
 "nbformat": 4,
 "nbformat_minor": 2
}
