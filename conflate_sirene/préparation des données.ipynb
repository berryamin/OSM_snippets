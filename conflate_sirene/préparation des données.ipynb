{
 "cells": [
  {
   "cell_type": "code",
   "execution_count": 1,
   "metadata": {},
   "outputs": [],
   "source": [
    "import os\n",
    "import urllib.request\n",
    "import csv\n",
    "import json"
   ]
  },
  {
   "cell_type": "code",
   "execution_count": null,
   "metadata": {},
   "outputs": [
    {
     "data": {
      "text/plain": [
       "0"
      ]
     },
     "execution_count": 2,
     "metadata": {},
     "output_type": "execute_result"
    }
   ],
   "source": [
    "#On télécharge et on dézippe\n",
    "\n",
    "urllib.request.urlretrieve (\"http://212.47.238.202/geo_sirene/last/geo_sirene.csv.gz\", \"geo_sirene.csv.gz\")\n",
    "os.system( 'gunzip geo_sirene.csv.gz' )\n",
    "\n",
    "#sur une petite zone\n",
    "#urllib.request.urlretrieve (\"http://212.47.238.202/geo_sirene/last/geo-sirene_75112.csv.7z\", \"geo-sirene_75112.csv.7z\")\n",
    "#os.system( '7z x geo-sirene_75112.csv.7z' )"
   ]
  },
  {
   "cell_type": "code",
   "execution_count": null,
   "metadata": {},
   "outputs": [],
   "source": [
    "#On extrait le type de POIs qui nous intéresse\n",
    "\n",
    "output_without_dup = {}\n",
    "\n",
    "with open(\"geo_sirene.csv\", \"r\") as source:\n",
    "    reader = csv.DictReader(source)\n",
    "    for row in reader:\n",
    "        if row['APET700'] == \"1071C\":\n",
    "            if row['longitude'] and row['latitude']:\n",
    "                elem_id = row['longitude'] + row['latitude']\n",
    "                output_without_dup[elem_id] = row\n",
    "                \n",
    "print (len(output_without_dup))"
   ]
  },
  {
   "cell_type": "code",
   "execution_count": null,
   "metadata": {},
   "outputs": [],
   "source": [
    "with open('bakery.json', 'w') as fp:\n",
    "    json.dump(list(output_without_dup.values()), fp, indent=4)\n",
    "    \n"
   ]
  },
  {
   "cell_type": "markdown",
   "metadata": {},
   "source": [
    "conflate bakery_sirene_json.py -c result.json -i bakery.json --osm osm_bakery.osm"
   ]
  }
 ],
 "metadata": {
  "kernelspec": {
   "display_name": "Python 3",
   "language": "python",
   "name": "python3"
  },
  "language_info": {
   "codemirror_mode": {
    "name": "ipython",
    "version": 3
   },
   "file_extension": ".py",
   "mimetype": "text/x-python",
   "name": "python",
   "nbconvert_exporter": "python",
   "pygments_lexer": "ipython3",
   "version": "3.5.2"
  }
 },
 "nbformat": 4,
 "nbformat_minor": 2
}
