{
 "cells": [
  {
   "cell_type": "markdown",
   "metadata": {},
   "source": [
    "# Extraction de parcours de bus OSM en JsonGraph"
   ]
  },
  {
   "cell_type": "code",
   "execution_count": 1,
   "metadata": {
    "collapsed": true
   },
   "outputs": [],
   "source": [
    "import requests\n",
    "import json"
   ]
  },
  {
   "cell_type": "code",
   "execution_count": 2,
   "metadata": {
    "collapsed": true
   },
   "outputs": [],
   "source": [
    "lines_metadata = {}\n",
    "stops_by_lines = {}\n",
    "stops = []"
   ]
  },
  {
   "cell_type": "code",
   "execution_count": 3,
   "metadata": {},
   "outputs": [],
   "source": [
    "network = \"RTUD\"\n",
    "operator = \"RTUD\"\n",
    "overpass_base_url = \"http://overpass-api.de/api/interpreter?data=\"\n",
    "\n",
    "overpass_query_lines = \"\"\"\n",
    "    [out:json];\n",
    "    (relation[\"type\"=\"route\"][\"network\"=\"{}\"][\"operator\"=\"{}\"];)->.a;\n",
    "    relation(br)[\"type\"=\"route_master\"];\n",
    "    out meta;\"\"\".format(network, operator)\n",
    "\n",
    "get_lines = requests.get(overpass_base_url + overpass_query_lines)\n",
    "if not get_lines.status_code == 200 :\n",
    "    print (\"erreur à l'appel d'Overpass pour récupérer les lignes\")\n",
    "    exit\n",
    "    \n",
    "lines = get_lines.json()['elements']"
   ]
  },
  {
   "cell_type": "code",
   "execution_count": 4,
   "metadata": {},
   "outputs": [],
   "source": [
    "routes_id = {}\n",
    "\n",
    "for a_line in lines :\n",
    "    lines_metadata[a_line['id']]=a_line['tags']\n",
    "    routes_id[a_line['id']] = a_line[\"members\"][0]['ref'] #for now, we only inspect one route of each line    "
   ]
  },
  {
   "cell_type": "code",
   "execution_count": 5,
   "metadata": {},
   "outputs": [
    {
     "name": "stdout",
     "output_type": "stream",
     "text": [
      "{6941657: [], 6932554: [4822825493, 4822825492, 4822825491, 4822825490, 4822825486, 4822825484, 4822825482, 4822825481, 4822825480, 4822825479, 4822825478, 4822825628, 4822825477, 4822825475, 4822825474, 4822825473, 4822825471, 4822825470, 4822825467, 4822825466, 2155045951, 4430659470, 4822825476, 4822825495], 6937875: [5300752876, 5300752879, 5300752877, 4822825473, 4822825626, 4822825458, 4822825508, 4822825456], 6937499: [], 7835159: [4822825456, 5300791450, 5300791451, 4822825483, 4822825485, 4822825489, 4822825454, 4822825493, 4822825490, 4822825480]}\n",
      "[{'lon': 6.2355234, 'id': 4822825456, 'lat': 44.0931619, 'type': 'node', 'tags': {'shelter': 'yes', 'bench': 'yes', 'name': 'Charles de Gaulle', 'wheelchair': 'yes', 'highway': 'bus_stop', 'bus': 'yes', 'public_transport': 'platform'}}, {'lon': 6.2270895, 'id': 4822825458, 'lat': 44.0893608, 'type': 'node', 'tags': {'wheelchair': 'yes', 'public_transport': 'platform', 'name': 'Rond-Point du 4 Septembre 1970', 'bus': 'yes', 'highway': 'bus_stop'}}, {'lon': 6.215886, 'id': 4822825473, 'lat': 44.085788, 'type': 'node', 'tags': {'shelter': 'yes', 'wheelchair': 'yes', 'name': 'Georges Pompidou', 'survey:date': '2017-07-26', 'highway': 'bus_stop', 'bus': 'yes', 'public_transport': 'platform'}}, {'lon': 6.2308899, 'id': 4822825508, 'lat': 44.0903636, 'type': 'node', 'tags': {'shelter': 'no', 'name': 'Pierre Gassendi', 'wheelchair': 'yes', 'tactile_paving': 'yes', 'highway': 'bus_stop', 'bus': 'yes', 'public_transport': 'platform'}}, {'lon': 6.2208534, 'id': 4822825626, 'lat': 44.0879891, 'type': 'node', 'tags': {'wheelchair': 'yes', 'public_transport': 'platform', 'name': 'Les Arcades', 'bus': 'yes', 'highway': 'bus_stop'}}, {'lon': 6.208642, 'id': 5300752876, 'lat': 44.0803118, 'type': 'node', 'tags': {'public_transport': 'platform', 'name': 'Le Moulin', 'bus': 'yes', 'highway': 'bus_stop'}}, {'lon': 6.2153388, 'id': 5300752877, 'lat': 44.0819127, 'type': 'node', 'tags': {'wheelchair': 'yes', 'public_transport': 'platform', 'name': 'Chemin du Marquis', 'bus': 'yes', 'highway': 'bus_stop'}}, {'lon': 6.2114053, 'id': 5300752879, 'lat': 44.080952, 'type': 'node', 'tags': {'wheelchair': 'yes', 'public_transport': 'platform', 'name': 'Chemin du Moulin', 'bus': 'yes', 'highway': 'bus_stop'}}, {'lon': 6.1808373, 'id': 2155045951, 'lat': 44.0727314, 'type': 'node', 'tags': {'wheelchair': 'yes', 'network': 'TUD', 'name': 'Lycée Pierre-Gilles de Gennes', 'survey:date': '2017-06-29', 'highway': 'bus_stop', 'bus': 'yes', 'public_transport': 'platform'}}, {'lon': 6.1779864, 'id': 4430659470, 'lat': 44.0704794, 'type': 'node', 'tags': {'shelter': 'yes', 'bench': 'yes', 'network': 'TUD', 'name': 'Digne-les-Bains - Centre Hospitalier', 'wheelchair': 'yes', 'highway': 'bus_stop', 'bus': 'yes', 'public_transport': 'platform'}}, {'lon': 6.1854896, 'id': 4822825466, 'lat': 44.0764315, 'type': 'node', 'tags': {'public_transport': 'platform', 'name': 'Digne-les-Bains - Centre Technique', 'bus': 'yes', 'network': 'TUD/LER', 'highway': 'bus_stop'}}, {'lon': 6.1882807, 'id': 4822825467, 'lat': 44.0765987, 'type': 'node', 'tags': {'network': 'TUD', 'name': 'Centre Commercial', 'wheelchair': 'yes', 'highway': 'bus_stop', 'bus': 'yes', 'public_transport': 'platform'}}, {'lon': 6.2049399, 'id': 4822825470, 'lat': 44.0838055, 'type': 'node', 'tags': {'wheelchair': 'yes', 'public_transport': 'platform', 'name': 'Les Alpilles', 'bus': 'yes', 'highway': 'bus_stop'}}, {'lon': 6.2086473, 'id': 4822825471, 'lat': 44.0850029, 'type': 'node', 'tags': {'shelter': 'yes', 'bench': 'yes', 'network': 'RTUD', 'name': 'Les Baumelles', 'wheelchair': 'yes', 'highway': 'bus_stop', 'bus': 'yes', 'public_transport': 'platform'}}, {'lon': 6.215886, 'id': 4822825473, 'lat': 44.085788, 'type': 'node', 'tags': {'shelter': 'yes', 'wheelchair': 'yes', 'name': 'Georges Pompidou', 'survey:date': '2017-07-26', 'highway': 'bus_stop', 'bus': 'yes', 'public_transport': 'platform'}}, {'lon': 6.217903, 'id': 4822825474, 'lat': 44.0835314, 'type': 'node', 'tags': {'wheelchair': 'yes', 'public_transport': 'platform', 'name': 'Centre de Secours', 'bus': 'yes', 'highway': 'bus_stop'}}, {'lon': 6.2233432, 'id': 4822825475, 'lat': 44.0862439, 'type': 'node', 'tags': {'wheelchair': 'yes', 'public_transport': 'platform', 'name': 'La Sèbe', 'bus': 'yes', 'highway': 'bus_stop'}}, {'lon': 6.1773745, 'id': 4822825476, 'lat': 44.0740949, 'type': 'node', 'tags': {'network': 'RTUD', 'name': 'La Paix', 'wheelchair': 'yes', 'highway': 'bus_stop', 'bus': 'yes', 'public_transport': 'platform'}}, {'lon': 6.2258232, 'id': 4822825477, 'lat': 44.0890233, 'type': 'node', 'tags': {'network': 'TUD', 'name': 'Rond-Point du 4 Septembre 1970', 'wheelchair': 'yes', 'highway': 'bus_stop', 'bus': 'yes', 'public_transport': 'platform'}}, {'lon': 6.2310985, 'id': 4822825478, 'lat': 44.0915068, 'type': 'node', 'tags': {'bench': 'yes', 'name': 'Digne − Gare Routière', 'wheelchair': 'yes', 'highway': 'bus_stop', 'bus': 'yes', 'public_transport': 'platform'}}, {'lon': 6.2310304, 'id': 4822825479, 'lat': 44.092178, 'type': 'node', 'tags': {'public_transport': 'platform', 'tactile_paving': 'no', 'name': 'Tampinet', 'bus': 'yes', 'highway': 'bus_stop'}}, {'lon': 6.2352823, 'id': 4822825480, 'lat': 44.0931829, 'type': 'node', 'tags': {'wheelchair': 'limited', 'public_transport': 'platform', 'name': 'Hôtel de Ville', 'bus': 'yes', 'highway': 'bus_stop'}}, {'lon': 6.237241, 'id': 4822825481, 'lat': 44.0940213, 'type': 'node', 'tags': {'wheelchair': 'yes', 'public_transport': 'platform', 'name': 'Maria Borrély', 'bus': 'yes', 'highway': 'bus_stop'}}, {'lon': 6.2414541, 'id': 4822825482, 'lat': 44.0955672, 'type': 'node', 'tags': {'wheelchair': 'yes', 'public_transport': 'platform', 'name': 'Chemin du Bourg', 'bus': 'yes', 'highway': 'bus_stop'}}, {'lon': 6.2422869, 'id': 4822825484, 'lat': 44.0967365, 'type': 'node', 'tags': {'wheelchair': 'yes', 'public_transport': 'platform', 'name': 'Notre-Dame du Bourg / Crypte', 'bus': 'yes', 'highway': 'bus_stop'}}, {'lon': 6.2377694, 'id': 4822825486, 'lat': 44.0960616, 'type': 'node', 'tags': {'public_transport': 'platform', 'name': 'Parc Mexico', 'bus': 'yes', 'highway': 'bus_stop'}}, {'lon': 6.2349612, 'id': 4822825490, 'lat': 44.0956019, 'type': 'node', 'tags': {'wheelchair': 'yes', 'public_transport': 'platform', 'name': 'Alphonse Richard', 'bus': 'yes', 'highway': 'bus_stop'}}, {'lon': 6.2315132, 'id': 4822825491, 'lat': 44.1001762, 'type': 'node', 'tags': {'public_transport': 'platform', 'name': 'Victor Hugo', 'bus': 'yes', 'highway': 'bus_stop'}}, {'lon': 6.231131, 'id': 4822825492, 'lat': 44.1021481, 'type': 'node', 'tags': {'public_transport': 'platform', 'bus': 'yes', 'highway': 'bus_stop'}}, {'lon': 6.2336918, 'id': 4822825493, 'lat': 44.1015965, 'type': 'node', 'tags': {'wheelchair': 'yes', 'public_transport': 'platform', 'name': 'Novellini/A. David-Neel', 'bus': 'yes', 'highway': 'bus_stop'}}, {'lon': 6.17436, 'id': 4822825495, 'lat': 44.0805642, 'type': 'node', 'tags': {'wheelchair': 'yes', 'public_transport': 'platform', 'name': 'Les Augiers', 'bus': 'yes', 'highway': 'bus_stop'}}, {'lon': 6.2286063, 'id': 4822825628, 'lat': 44.0910711, 'type': 'node', 'tags': {'shelter': 'no', 'name': 'La Gineste', 'survey:date': '2017-08-28', 'tactile_paving': 'no', 'highway': 'bus_stop', 'bus': 'yes', 'public_transport': 'platform'}}, {'lon': 6.2335912, 'id': 4822825454, 'lat': 44.1015455, 'type': 'node', 'tags': {'wheelchair': 'yes', 'public_transport': 'platform', 'name': 'Novellini/A. David-Neel', 'bus': 'yes', 'highway': 'bus_stop'}}, {'lon': 6.2355234, 'id': 4822825456, 'lat': 44.0931619, 'type': 'node', 'tags': {'shelter': 'yes', 'bench': 'yes', 'name': 'Charles de Gaulle', 'wheelchair': 'yes', 'highway': 'bus_stop', 'bus': 'yes', 'public_transport': 'platform'}}, {'lon': 6.2352823, 'id': 4822825480, 'lat': 44.0931829, 'type': 'node', 'tags': {'wheelchair': 'limited', 'public_transport': 'platform', 'name': 'Hôtel de Ville', 'bus': 'yes', 'highway': 'bus_stop'}}, {'lon': 6.2422179, 'id': 4822825483, 'lat': 44.0969397, 'type': 'node', 'tags': {'wheelchair': 'yes', 'public_transport': 'platform', 'name': 'Notre-Dame du Bourg / Crypte', 'bus': 'yes', 'highway': 'bus_stop'}}, {'lon': 6.2376186, 'id': 4822825485, 'lat': 44.0960914, 'type': 'node', 'tags': {'public_transport': 'platform', 'name': 'Parc Mexico', 'bus': 'yes', 'highway': 'bus_stop'}}, {'lon': 6.2349819, 'id': 4822825489, 'lat': 44.0957743, 'type': 'node', 'tags': {'wheelchair': 'yes', 'public_transport': 'platform', 'name': 'Alphonse Richard', 'bus': 'yes', 'highway': 'bus_stop'}}, {'lon': 6.2349612, 'id': 4822825490, 'lat': 44.0956019, 'type': 'node', 'tags': {'wheelchair': 'yes', 'public_transport': 'platform', 'name': 'Alphonse Richard', 'bus': 'yes', 'highway': 'bus_stop'}}, {'lon': 6.2336918, 'id': 4822825493, 'lat': 44.1015965, 'type': 'node', 'tags': {'wheelchair': 'yes', 'public_transport': 'platform', 'name': 'Novellini/A. David-Neel', 'bus': 'yes', 'highway': 'bus_stop'}}, {'lon': 6.2495296, 'id': 5300791450, 'lat': 44.100299, 'type': 'node', 'tags': {'public_transport': 'platform', 'name': 'Camping Tennis', 'bus': 'yes', 'highway': 'bus_stop'}}, {'lon': 6.2527958, 'id': 5300791451, 'lat': 44.1028367, 'type': 'node', 'tags': {'shelter': 'yes', 'bench': 'yes', 'name': 'Les Truyas', 'wheelchair': 'yes', 'highway': 'bus_stop', 'bus': 'yes', 'public_transport': 'platform'}}]\n"
     ]
    }
   ],
   "source": [
    "def get_overpass_query_for_stops(route_id):\n",
    "    return \"\"\" [out:json];relation({});(._;>;);out;\"\"\".format(route_id)\n",
    "\n",
    "\n",
    "for a_line_id, a_route_id in routes_id.items() :\n",
    "    get_route = requests.get(overpass_base_url + get_overpass_query_for_stops(a_route_id))\n",
    "    if not get_route.status_code == 200:\n",
    "        break\n",
    "    all_info = get_route.json()['elements']\n",
    "    route_info = [elem for elem in all_info if elem['type']=='relation']\n",
    "    route_members = route_info[0]['members']\n",
    "    route_stops = [elem for elem in route_members if elem['role']=='platform' and elem['type']=='node']\n",
    "    stop_list_ids = [elem['ref'] for elem in route_stops]\n",
    "    stops_by_lines[a_line_id] = stop_list_ids\n",
    "    stop_info = [elem for elem in all_info if elem[\"id\"] in stop_list_ids]\n",
    "    stops += stop_info\n",
    "    \n",
    "\n",
    "    \n",
    "print (stops_by_lines)\n",
    "print (stops)"
   ]
  },
  {
   "cell_type": "code",
   "execution_count": 6,
   "metadata": {},
   "outputs": [
    {
     "data": {
      "text/plain": [
       "[{'id': 4822825456, 'label': 'Charles de Gaulle'},\n",
       " {'id': 4822825458, 'label': 'Rond-Point du 4 Septembre 1970'},\n",
       " {'id': 4822825473, 'label': 'Georges Pompidou'},\n",
       " {'id': 4822825508, 'label': 'Pierre Gassendi'},\n",
       " {'id': 4822825626, 'label': 'Les Arcades'},\n",
       " {'id': 5300752876, 'label': 'Le Moulin'},\n",
       " {'id': 5300752877, 'label': 'Chemin du Marquis'},\n",
       " {'id': 5300752879, 'label': 'Chemin du Moulin'},\n",
       " {'id': 2155045951, 'label': 'Lycée Pierre-Gilles de Gennes'},\n",
       " {'id': 4430659470, 'label': 'Digne-les-Bains - Centre Hospitalier'},\n",
       " {'id': 4822825466, 'label': 'Digne-les-Bains - Centre Technique'},\n",
       " {'id': 4822825467, 'label': 'Centre Commercial'},\n",
       " {'id': 4822825470, 'label': 'Les Alpilles'},\n",
       " {'id': 4822825471, 'label': 'Les Baumelles'},\n",
       " {'id': 4822825473, 'label': 'Georges Pompidou'},\n",
       " {'id': 4822825474, 'label': 'Centre de Secours'},\n",
       " {'id': 4822825475, 'label': 'La Sèbe'},\n",
       " {'id': 4822825476, 'label': 'La Paix'},\n",
       " {'id': 4822825477, 'label': 'Rond-Point du 4 Septembre 1970'},\n",
       " {'id': 4822825478, 'label': 'Digne − Gare Routière'},\n",
       " {'id': 4822825479, 'label': 'Tampinet'},\n",
       " {'id': 4822825480, 'label': 'Hôtel de Ville'},\n",
       " {'id': 4822825481, 'label': 'Maria Borrély'},\n",
       " {'id': 4822825482, 'label': 'Chemin du Bourg'},\n",
       " {'id': 4822825484, 'label': 'Notre-Dame du Bourg / Crypte'},\n",
       " {'id': 4822825486, 'label': 'Parc Mexico'},\n",
       " {'id': 4822825490, 'label': 'Alphonse Richard'},\n",
       " {'id': 4822825491, 'label': 'Victor Hugo'},\n",
       " {'id': 4822825492, 'label': ''},\n",
       " {'id': 4822825493, 'label': 'Novellini/A. David-Neel'},\n",
       " {'id': 4822825495, 'label': 'Les Augiers'},\n",
       " {'id': 4822825628, 'label': 'La Gineste'},\n",
       " {'id': 4822825454, 'label': 'Novellini/A. David-Neel'},\n",
       " {'id': 4822825456, 'label': 'Charles de Gaulle'},\n",
       " {'id': 4822825480, 'label': 'Hôtel de Ville'},\n",
       " {'id': 4822825483, 'label': 'Notre-Dame du Bourg / Crypte'},\n",
       " {'id': 4822825485, 'label': 'Parc Mexico'},\n",
       " {'id': 4822825489, 'label': 'Alphonse Richard'},\n",
       " {'id': 4822825490, 'label': 'Alphonse Richard'},\n",
       " {'id': 4822825493, 'label': 'Novellini/A. David-Neel'},\n",
       " {'id': 5300791450, 'label': 'Camping Tennis'},\n",
       " {'id': 5300791451, 'label': 'Les Truyas'}]"
      ]
     },
     "execution_count": 6,
     "metadata": {},
     "output_type": "execute_result"
    }
   ],
   "source": [
    "nodes = []\n",
    "\n",
    "for stop in stops:\n",
    "    stop_name = \"\"\n",
    "    if 'name' in stop['tags']:\n",
    "        stop_name = stop['tags']['name']\n",
    "    nodes.append({\n",
    "        \"id\": stop['id'],\n",
    "        \"label\": stop_name} )\n",
    "\n",
    "nodes"
   ]
  },
  {
   "cell_type": "code",
   "execution_count": 7,
   "metadata": {},
   "outputs": [
    {
     "data": {
      "text/plain": [
       "39"
      ]
     },
     "execution_count": 7,
     "metadata": {},
     "output_type": "execute_result"
    }
   ],
   "source": [
    "edges = []\n",
    "\n",
    "for line in stops_by_lines:\n",
    "    stops = stops_by_lines[line]\n",
    "\n",
    "    for i in range(len(stops) -1 ):\n",
    "        current_edge = {\"relation\":\"bus\"}\n",
    "        current_edge[\"metadata\"] = lines_metadata[line]\n",
    "        current_edge[\"source\"] = stops[i]\n",
    "        current_edge[\"target\"] = stops[i+1]\n",
    "        edges.append(current_edge)\n",
    "\n",
    "len(edges)\n",
    "        "
   ]
  },
  {
   "cell_type": "code",
   "execution_count": 8,
   "metadata": {},
   "outputs": [],
   "source": [
    "with open(\"edges.json\", \"w\") as edges_files :\n",
    "    json.dump(edges, edges_files, indent=1, sort_keys=True)\n",
    "\n",
    "with open(\"nodes.json\", \"w\") as nodes_files :\n",
    "    json.dump(nodes, nodes_files, indent=0)"
   ]
  },
  {
   "cell_type": "code",
   "execution_count": 9,
   "metadata": {},
   "outputs": [
    {
     "data": {
      "text/plain": [
       "{6932554: [4822825493,\n",
       "  4822825492,\n",
       "  4822825491,\n",
       "  4822825490,\n",
       "  4822825486,\n",
       "  4822825484,\n",
       "  4822825482,\n",
       "  4822825481,\n",
       "  4822825480,\n",
       "  4822825479,\n",
       "  4822825478,\n",
       "  4822825628,\n",
       "  4822825477,\n",
       "  4822825475,\n",
       "  4822825474,\n",
       "  4822825473,\n",
       "  4822825471,\n",
       "  4822825470,\n",
       "  4822825467,\n",
       "  4822825466,\n",
       "  2155045951,\n",
       "  4430659470,\n",
       "  4822825476,\n",
       "  4822825495],\n",
       " 6937499: [],\n",
       " 6937875: [5300752876,\n",
       "  5300752879,\n",
       "  5300752877,\n",
       "  4822825473,\n",
       "  4822825626,\n",
       "  4822825458,\n",
       "  4822825508,\n",
       "  4822825456],\n",
       " 6941657: [],\n",
       " 7835159: [4822825456,\n",
       "  5300791450,\n",
       "  5300791451,\n",
       "  4822825483,\n",
       "  4822825485,\n",
       "  4822825489,\n",
       "  4822825454,\n",
       "  4822825493,\n",
       "  4822825490,\n",
       "  4822825480]}"
      ]
     },
     "execution_count": 9,
     "metadata": {},
     "output_type": "execute_result"
    }
   ],
   "source": [
    "stops_by_lines"
   ]
  }
 ],
 "metadata": {
  "kernelspec": {
   "display_name": "Python 3",
   "language": "python",
   "name": "python3"
  },
  "language_info": {
   "codemirror_mode": {
    "name": "ipython",
    "version": 3
   },
   "file_extension": ".py",
   "mimetype": "text/x-python",
   "name": "python",
   "nbconvert_exporter": "python",
   "pygments_lexer": "ipython3",
   "version": "3.5.2"
  }
 },
 "nbformat": 4,
 "nbformat_minor": 2
}
